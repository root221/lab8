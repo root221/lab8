{
 "cells": [
  {
   "cell_type": "markdown",
   "metadata": {},
   "source": [
    "# Sensing and Intelligent System: ICP Exercise\n",
    "\n",
    "By Chang-Yi Kuo and Nick Wang"
   ]
  },
  {
   "cell_type": "markdown",
   "metadata": {},
   "source": [
    "## Import Packages"
   ]
  },
  {
   "cell_type": "code",
   "execution_count": 1,
   "metadata": {},
   "outputs": [],
   "source": [
    "import numpy as np\n",
    "import scipy as sp\n",
    "import cv2\n",
    "import time\n",
    "from matplotlib import pyplot as plt\n",
    "\n",
    "from skimage.measure import LineModelND, ransac\n",
    "\n",
    "%matplotlib inline\n",
    "# set display defaults\n",
    "plt.rcParams['figure.figsize'] = (10, 10)        # large images\n",
    "plt.rcParams['image.interpolation'] = 'nearest'  # don't interpolate: show square pixels"
   ]
  },
  {
   "cell_type": "markdown",
   "metadata": {
    "collapsed": true
   },
   "source": [
    "## ICP Exercise\n",
    "\n",
    "In this exercise you will use a standard ICP algorithm with the point-to-point distance metric to estimate the transform between the 2D datasets (model - red and target - green) depicted in the below figure. For the correspondence estimation please use the nearest neighbor search with the maximum radius set to 4 grid units."
   ]
  },
  {
   "cell_type": "code",
   "execution_count": 2,
   "metadata": {},
   "outputs": [
    {
     "data": {
      "text/plain": [
       "[0, 18, 0, 18]"
      ]
     },
     "execution_count": 2,
     "metadata": {},
     "output_type": "execute_result"
    },
    {
     "data": {
      "image/png": "[encoded data removed]",
      "text/plain": [
       "<matplotlib.figure.Figure at 0x10c2f63d0>"
      ]
     },
     "metadata": {},
     "output_type": "display_data"
    }
   ],
   "source": [
    "plt.plot([3,7,9,13], [2,0,5,11], 'ro')\n",
    "plt.plot([2,6,6,6], [2,2,6,8], 'go')\n",
    "plt.axis([0, 18, 0, 18])"
   ]
  },
  {
   "cell_type": "markdown",
   "metadata": {},
   "source": [
    "### 1. Find Point Pairs. You should be careful about the NN search radius, and reject outlier."
   ]
  },
  {
   "cell_type": "markdown",
   "metadata": {},
   "source": [
    "### 2. Compute Centroids"
   ]
  },
  {
   "cell_type": "code",
   "execution_count": 4,
   "metadata": {},
   "outputs": [
    {
     "name": "stdout",
     "output_type": "stream",
     "text": [
      "[ 4.66666651  3.33333325]\n",
      "[ 6.33333349  2.33333325]\n"
     ]
    }
   ],
   "source": [
    "p_1t = np.array([2, 2], dtype='f')\n",
    "p_2t = np.array([6, 2], dtype='f')\n",
    "p_3t = np.array([6, 6], dtype='f')\n",
    "p_ct = (p_1t + p_2t + p_3t)/3\n",
    "print p_ct\n",
    "\n",
    "p_1m = np.array([3, 2], dtype='f')\n",
    "p_2m = np.array([7, 0], dtype='f')\n",
    "p_3m = np.array([9, 5], dtype='f')\n",
    "p_cm = (p_1m + p_2m + p_3m)/3\n",
    "print p_cm"
   ]
  },
  {
   "cell_type": "markdown",
   "metadata": {},
   "source": [
    "### 3. Build the Correlation Matrix H"
   ]
  },
  {
   "cell_type": "code",
   "execution_count": 5,
   "metadata": {},
   "outputs": [
    {
     "name": "stdout",
     "output_type": "stream",
     "text": [
      "[[ 13.33333206  10.66666603]\n",
      " [  1.33333325  10.66666698]]\n"
     ]
    }
   ],
   "source": [
    "p_1td = p_1t - p_ct\n",
    "p_2td = p_2t - p_ct\n",
    "p_3td = p_3t - p_ct\n",
    "# print p_1td,p_2td,p_3td\n",
    "\n",
    "p_1tm = p_1m - p_cm\n",
    "p_2tm = p_2m - p_cm\n",
    "p_3tm = p_3m - p_cm\n",
    "# print p_1tm,p_2tm,p_3tm\n",
    "\n",
    "Mtd = np.vstack((p_1td, p_2td, p_3td)).transpose()\n",
    "# print Mtd\n",
    "Mmd = np.vstack((p_1tm, p_2tm, p_3tm)).transpose()\n",
    "# print Mmd\n",
    "\n",
    "H = np.dot(Mmd, Mtd.transpose())\n",
    "print H"
   ]
  },
  {
   "cell_type": "markdown",
   "metadata": {},
   "source": [
    "### 4. Estimate Rotation Matrix R using SVD"
   ]
  },
  {
   "cell_type": "code",
   "execution_count": 9,
   "metadata": {
    "scrolled": true
   },
   "outputs": [
    {
     "name": "stdout",
     "output_type": "stream",
     "text": [
      "[[ 0.93200469 -0.36244628]\n",
      " [ 0.36244628  0.93200469]]\n"
     ]
    }
   ],
   "source": [
    "# YOU CODE THIS\n",
    "# HINT 1: np.linalg.svd()\n",
    "# HINT 2: np.dot\n",
    "# HINT 3: U.transpose()\n",
    "[U,D,V] = np.linalg.svd(H)\n",
    "R = np.matmul(V,U.transpose())\n",
    "# [U, D, V] = XXX\n",
    "# R = XXX\n",
    "print R"
   ]
  },
  {
   "cell_type": "markdown",
   "metadata": {},
   "source": [
    "### 5. Estimate the translation vector t"
   ]
  },
  {
   "cell_type": "code",
   "execution_count": 58,
   "metadata": {},
   "outputs": [
    {
     "name": "stdout",
     "output_type": "stream",
     "text": [
      "[[-0.39032221]\n",
      " [-1.13683724]]\n"
     ]
    }
   ],
   "source": [
    "# YOU CODE THIS\n",
    "\n",
    "# t = np.matrix(p_ct - XXX)\n",
    "t = np.matmul(-R,p_cm) + p_ct\n",
    "t = t.reshape(2,1)\n",
    "print(t)"
   ]
  },
  {
   "cell_type": "markdown",
   "metadata": {},
   "source": [
    "### 6. Calculate the transform T\n",
    "\n",
    "The result should be: \n",
    "[[ 0.93200469 -0.36244628 -0.39032221]\n",
    " [ 0.36244628  0.93200469 -1.13683772]\n",
    " [ 0.          0.          1.        ]]"
   ]
  },
  {
   "cell_type": "code",
   "execution_count": 80,
   "metadata": {},
   "outputs": [
    {
     "name": "stdout",
     "output_type": "stream",
     "text": [
      "[[ 0.93200469 -0.36244628 -0.39032221]\n",
      " [ 0.36244628  0.93200469 -1.13683724]\n",
      " [ 0.          0.          1.        ]]\n"
     ]
    }
   ],
   "source": [
    "# YOU CODE THIS\n",
    "# HINT: np.hstack, np.vstack\n",
    "temp = np.concatenate((R[0],t[0]))\n",
    "temp1 = np.concatenate((R[1],t[1]))\n",
    "zero = np.array([[0,0,1]])\n",
    "T = np.vstack((temp,temp1,zero))\n",
    "print T"
   ]
  },
  {
   "cell_type": "markdown",
   "metadata": {},
   "source": [
    "### 7. Transform Dataset m using the transform T"
   ]
  },
  {
   "cell_type": "code",
   "execution_count": 85,
   "metadata": {},
   "outputs": [
    {
     "name": "stdout",
     "output_type": "stream",
     "text": [
      "[ 1.68079931  1.81451097]\n",
      "[ 6.13371062  1.4002867 ]\n",
      "[ 6.18548861  6.78520271]\n"
     ]
    }
   ],
   "source": [
    "p1_m = np.append([np.matrix(p_1m)],[1])\n",
    "p2_m = np.append([np.matrix(p_2m)],[1])\n",
    "p3_m = np.append([np.matrix(p_3m)],[1])\n",
    "\n",
    "t1 = np.dot(T,p1_m.transpose())[0:2]\n",
    "t2 = np.dot(T,p2_m.transpose())[0:2]\n",
    "t3 = np.dot(T,p3_m.transpose())[0:2]\n",
    "print t1\n",
    "print t2\n",
    "print t3"
   ]
  },
  {
   "cell_type": "code",
   "execution_count": 87,
   "metadata": {
    "scrolled": true
   },
   "outputs": [
    {
     "data": {
      "text/plain": [
       "[0, 18, 0, 18]"
      ]
     },
     "execution_count": 87,
     "metadata": {},
     "output_type": "execute_result"
    },
    {
     "data": {
      "image/png": "[encoded data removed]",
      "text/plain": [
       "<matplotlib.figure.Figure at 0x10c872850>"
      ]
     },
     "metadata": {},
     "output_type": "display_data"
    }
   ],
   "source": [
    "t_x = np.append([t1[0]],[t2[0],t3[0]])\n",
    "t_y = np.append([t1[1]],[t2[1],t3[1]])\n",
    "# print t_x\n",
    "# print t_y\n",
    "plt.plot(t_x,t_y, 'ro')\n",
    "plt.plot([2,6,6], [2,2,6], 'go')\n",
    "plt.axis([0, 18, 0, 18])"
   ]
  },
  {
   "cell_type": "code",
   "execution_count": null,
   "metadata": {
    "collapsed": true
   },
   "outputs": [],
   "source": []
  }
 ],
 "metadata": {
  "anaconda-cloud": {},
  "kernelspec": {
   "display_name": "Python 2",
   "language": "python",
   "name": "python2"
  },
  "language_info": {
   "codemirror_mode": {
    "name": "ipython",
    "version": 2
   },
   "file_extension": ".py",
   "mimetype": "text/x-python",
   "name": "python",
   "nbconvert_exporter": "python",
   "pygments_lexer": "ipython2",
   "version": "2.7.14"
  }
 },
 "nbformat": 4,
 "nbformat_minor": 1
}
